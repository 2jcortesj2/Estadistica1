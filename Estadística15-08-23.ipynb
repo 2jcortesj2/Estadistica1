{
 "cells": [
  {
   "cell_type": "code",
   "execution_count": 39,
   "id": "3bdb9053",
   "metadata": {},
   "outputs": [],
   "source": [
    "import pandas as pd\n",
    "import numpy as np\n",
    "from scipy import stats"
   ]
  },
  {
   "cell_type": "code",
   "execution_count": 16,
   "id": "2979c598",
   "metadata": {},
   "outputs": [],
   "source": [
    "path = r\"C:\\Users\\Soportedrai\\Desktop\\Estadistica\\educacion_sexual.csv\"\n",
    "\n",
    "df_edSex = pd.read_csv(path, sep=';')"
   ]
  },
  {
   "cell_type": "code",
   "execution_count": 17,
   "id": "271c28dc",
   "metadata": {},
   "outputs": [
    {
     "data": {
      "text/html": [
       "<div>\n",
       "<style scoped>\n",
       "    .dataframe tbody tr th:only-of-type {\n",
       "        vertical-align: middle;\n",
       "    }\n",
       "\n",
       "    .dataframe tbody tr th {\n",
       "        vertical-align: top;\n",
       "    }\n",
       "\n",
       "    .dataframe thead th {\n",
       "        text-align: right;\n",
       "    }\n",
       "</style>\n",
       "<table border=\"1\" class=\"dataframe\">\n",
       "  <thead>\n",
       "    <tr style=\"text-align: right;\">\n",
       "      <th></th>\n",
       "      <th># de estudiantes</th>\n",
       "      <th>Estrato</th>\n",
       "      <th>Edad</th>\n",
       "      <th># de metodos anticonceptivos conocidos</th>\n",
       "      <th># de relaciones que ha tenido</th>\n",
       "    </tr>\n",
       "  </thead>\n",
       "  <tbody>\n",
       "    <tr>\n",
       "      <th>0</th>\n",
       "      <td>1</td>\n",
       "      <td>3</td>\n",
       "      <td>15</td>\n",
       "      <td>5</td>\n",
       "      <td>7</td>\n",
       "    </tr>\n",
       "    <tr>\n",
       "      <th>1</th>\n",
       "      <td>2</td>\n",
       "      <td>3</td>\n",
       "      <td>17</td>\n",
       "      <td>1</td>\n",
       "      <td>1</td>\n",
       "    </tr>\n",
       "    <tr>\n",
       "      <th>2</th>\n",
       "      <td>3</td>\n",
       "      <td>3</td>\n",
       "      <td>16</td>\n",
       "      <td>5</td>\n",
       "      <td>0</td>\n",
       "    </tr>\n",
       "    <tr>\n",
       "      <th>3</th>\n",
       "      <td>4</td>\n",
       "      <td>3</td>\n",
       "      <td>15</td>\n",
       "      <td>6</td>\n",
       "      <td>3</td>\n",
       "    </tr>\n",
       "    <tr>\n",
       "      <th>4</th>\n",
       "      <td>5</td>\n",
       "      <td>3</td>\n",
       "      <td>15</td>\n",
       "      <td>3</td>\n",
       "      <td>0</td>\n",
       "    </tr>\n",
       "    <tr>\n",
       "      <th>5</th>\n",
       "      <td>6</td>\n",
       "      <td>4</td>\n",
       "      <td>15</td>\n",
       "      <td>8</td>\n",
       "      <td>2</td>\n",
       "    </tr>\n",
       "    <tr>\n",
       "      <th>6</th>\n",
       "      <td>7</td>\n",
       "      <td>3</td>\n",
       "      <td>16</td>\n",
       "      <td>7</td>\n",
       "      <td>8</td>\n",
       "    </tr>\n",
       "    <tr>\n",
       "      <th>7</th>\n",
       "      <td>8</td>\n",
       "      <td>4</td>\n",
       "      <td>17</td>\n",
       "      <td>9</td>\n",
       "      <td>9</td>\n",
       "    </tr>\n",
       "    <tr>\n",
       "      <th>8</th>\n",
       "      <td>9</td>\n",
       "      <td>3</td>\n",
       "      <td>18</td>\n",
       "      <td>8</td>\n",
       "      <td>3</td>\n",
       "    </tr>\n",
       "    <tr>\n",
       "      <th>9</th>\n",
       "      <td>10</td>\n",
       "      <td>3</td>\n",
       "      <td>16</td>\n",
       "      <td>10</td>\n",
       "      <td>8</td>\n",
       "    </tr>\n",
       "    <tr>\n",
       "      <th>10</th>\n",
       "      <td>11</td>\n",
       "      <td>3</td>\n",
       "      <td>14</td>\n",
       "      <td>11</td>\n",
       "      <td>7</td>\n",
       "    </tr>\n",
       "    <tr>\n",
       "      <th>11</th>\n",
       "      <td>12</td>\n",
       "      <td>2</td>\n",
       "      <td>16</td>\n",
       "      <td>4</td>\n",
       "      <td>7</td>\n",
       "    </tr>\n",
       "    <tr>\n",
       "      <th>12</th>\n",
       "      <td>13</td>\n",
       "      <td>3</td>\n",
       "      <td>18</td>\n",
       "      <td>5</td>\n",
       "      <td>2</td>\n",
       "    </tr>\n",
       "    <tr>\n",
       "      <th>13</th>\n",
       "      <td>14</td>\n",
       "      <td>3</td>\n",
       "      <td>15</td>\n",
       "      <td>6</td>\n",
       "      <td>0</td>\n",
       "    </tr>\n",
       "    <tr>\n",
       "      <th>14</th>\n",
       "      <td>15</td>\n",
       "      <td>3</td>\n",
       "      <td>16</td>\n",
       "      <td>8</td>\n",
       "      <td>3</td>\n",
       "    </tr>\n",
       "    <tr>\n",
       "      <th>15</th>\n",
       "      <td>16</td>\n",
       "      <td>3</td>\n",
       "      <td>17</td>\n",
       "      <td>2</td>\n",
       "      <td>2</td>\n",
       "    </tr>\n",
       "    <tr>\n",
       "      <th>16</th>\n",
       "      <td>17</td>\n",
       "      <td>3</td>\n",
       "      <td>17</td>\n",
       "      <td>9</td>\n",
       "      <td>3</td>\n",
       "    </tr>\n",
       "    <tr>\n",
       "      <th>17</th>\n",
       "      <td>18</td>\n",
       "      <td>2</td>\n",
       "      <td>17</td>\n",
       "      <td>3</td>\n",
       "      <td>3</td>\n",
       "    </tr>\n",
       "    <tr>\n",
       "      <th>18</th>\n",
       "      <td>19</td>\n",
       "      <td>3</td>\n",
       "      <td>14</td>\n",
       "      <td>7</td>\n",
       "      <td>3</td>\n",
       "    </tr>\n",
       "    <tr>\n",
       "      <th>19</th>\n",
       "      <td>20</td>\n",
       "      <td>3</td>\n",
       "      <td>15</td>\n",
       "      <td>9</td>\n",
       "      <td>2</td>\n",
       "    </tr>\n",
       "    <tr>\n",
       "      <th>20</th>\n",
       "      <td>21</td>\n",
       "      <td>3</td>\n",
       "      <td>16</td>\n",
       "      <td>8</td>\n",
       "      <td>7</td>\n",
       "    </tr>\n",
       "    <tr>\n",
       "      <th>21</th>\n",
       "      <td>22</td>\n",
       "      <td>3</td>\n",
       "      <td>18</td>\n",
       "      <td>6</td>\n",
       "      <td>1</td>\n",
       "    </tr>\n",
       "    <tr>\n",
       "      <th>22</th>\n",
       "      <td>23</td>\n",
       "      <td>3</td>\n",
       "      <td>19</td>\n",
       "      <td>7</td>\n",
       "      <td>8</td>\n",
       "    </tr>\n",
       "    <tr>\n",
       "      <th>23</th>\n",
       "      <td>24</td>\n",
       "      <td>3</td>\n",
       "      <td>17</td>\n",
       "      <td>8</td>\n",
       "      <td>0</td>\n",
       "    </tr>\n",
       "    <tr>\n",
       "      <th>24</th>\n",
       "      <td>25</td>\n",
       "      <td>2</td>\n",
       "      <td>14</td>\n",
       "      <td>2</td>\n",
       "      <td>0</td>\n",
       "    </tr>\n",
       "    <tr>\n",
       "      <th>25</th>\n",
       "      <td>26</td>\n",
       "      <td>3</td>\n",
       "      <td>15</td>\n",
       "      <td>3</td>\n",
       "      <td>0</td>\n",
       "    </tr>\n",
       "    <tr>\n",
       "      <th>26</th>\n",
       "      <td>27</td>\n",
       "      <td>3</td>\n",
       "      <td>15</td>\n",
       "      <td>4</td>\n",
       "      <td>0</td>\n",
       "    </tr>\n",
       "    <tr>\n",
       "      <th>27</th>\n",
       "      <td>28</td>\n",
       "      <td>3</td>\n",
       "      <td>16</td>\n",
       "      <td>3</td>\n",
       "      <td>0</td>\n",
       "    </tr>\n",
       "    <tr>\n",
       "      <th>28</th>\n",
       "      <td>29</td>\n",
       "      <td>3</td>\n",
       "      <td>19</td>\n",
       "      <td>9</td>\n",
       "      <td>0</td>\n",
       "    </tr>\n",
       "    <tr>\n",
       "      <th>29</th>\n",
       "      <td>30</td>\n",
       "      <td>2</td>\n",
       "      <td>16</td>\n",
       "      <td>7</td>\n",
       "      <td>0</td>\n",
       "    </tr>\n",
       "  </tbody>\n",
       "</table>\n",
       "</div>"
      ],
      "text/plain": [
       "    # de estudiantes  Estrato  Edad  # de metodos anticonceptivos conocidos  \\\n",
       "0                  1        3    15                                       5   \n",
       "1                  2        3    17                                       1   \n",
       "2                  3        3    16                                       5   \n",
       "3                  4        3    15                                       6   \n",
       "4                  5        3    15                                       3   \n",
       "5                  6        4    15                                       8   \n",
       "6                  7        3    16                                       7   \n",
       "7                  8        4    17                                       9   \n",
       "8                  9        3    18                                       8   \n",
       "9                 10        3    16                                      10   \n",
       "10                11        3    14                                      11   \n",
       "11                12        2    16                                       4   \n",
       "12                13        3    18                                       5   \n",
       "13                14        3    15                                       6   \n",
       "14                15        3    16                                       8   \n",
       "15                16        3    17                                       2   \n",
       "16                17        3    17                                       9   \n",
       "17                18        2    17                                       3   \n",
       "18                19        3    14                                       7   \n",
       "19                20        3    15                                       9   \n",
       "20                21        3    16                                       8   \n",
       "21                22        3    18                                       6   \n",
       "22                23        3    19                                       7   \n",
       "23                24        3    17                                       8   \n",
       "24                25        2    14                                       2   \n",
       "25                26        3    15                                       3   \n",
       "26                27        3    15                                       4   \n",
       "27                28        3    16                                       3   \n",
       "28                29        3    19                                       9   \n",
       "29                30        2    16                                       7   \n",
       "\n",
       "    # de relaciones que ha tenido  \n",
       "0                               7  \n",
       "1                               1  \n",
       "2                               0  \n",
       "3                               3  \n",
       "4                               0  \n",
       "5                               2  \n",
       "6                               8  \n",
       "7                               9  \n",
       "8                               3  \n",
       "9                               8  \n",
       "10                              7  \n",
       "11                              7  \n",
       "12                              2  \n",
       "13                              0  \n",
       "14                              3  \n",
       "15                              2  \n",
       "16                              3  \n",
       "17                              3  \n",
       "18                              3  \n",
       "19                              2  \n",
       "20                              7  \n",
       "21                              1  \n",
       "22                              8  \n",
       "23                              0  \n",
       "24                              0  \n",
       "25                              0  \n",
       "26                              0  \n",
       "27                              0  \n",
       "28                              0  \n",
       "29                              0  "
      ]
     },
     "execution_count": 17,
     "metadata": {},
     "output_type": "execute_result"
    }
   ],
   "source": [
    "df_edSex"
   ]
  },
  {
   "cell_type": "code",
   "execution_count": 18,
   "id": "21030e57",
   "metadata": {},
   "outputs": [
    {
     "name": "stdout",
     "output_type": "stream",
     "text": [
      "Media de Pandas: 16.133333333333333\n",
      "Media de Numpy: 16.133333333333333\n"
     ]
    }
   ],
   "source": [
    "mean1 = df_edSex[\"Edad\"].mean()\n",
    "print(f\"Media de Pandas: {mean1}\")\n",
    "\n",
    "mean2 = np.mean(df_edSex[\"Edad\"])\n",
    "print(f\"Media de Numpy: {mean2}\")"
   ]
  },
  {
   "cell_type": "code",
   "execution_count": 25,
   "id": "0533f610",
   "metadata": {},
   "outputs": [
    {
     "data": {
      "text/plain": [
       "# de estudiantes                          15.500000\n",
       "Estrato                                    2.933333\n",
       "Edad                                      16.133333\n",
       "# de metodos anticonceptivos conocidos     6.100000\n",
       "# de relaciones que ha tenido              2.966667\n",
       "dtype: float64"
      ]
     },
     "execution_count": 25,
     "metadata": {},
     "output_type": "execute_result"
    }
   ],
   "source": [
    "mean_edSex = df_edSex.mean(axis=0)\n",
    "mean_edSex"
   ]
  },
  {
   "cell_type": "code",
   "execution_count": 31,
   "id": "f6d3409c",
   "metadata": {},
   "outputs": [
    {
     "name": "stdout",
     "output_type": "stream",
     "text": [
      "# de estudiantes                          15.5\n",
      "Estrato                                    3.0\n",
      "Edad                                      16.0\n",
      "# de metodos anticonceptivos conocidos     6.5\n",
      "# de relaciones que ha tenido              2.0\n",
      "dtype: float64\n"
     ]
    },
    {
     "data": {
      "text/plain": [
       "array([15.5,  3. , 16. ,  6.5,  2. ])"
      ]
     },
     "execution_count": 31,
     "metadata": {},
     "output_type": "execute_result"
    }
   ],
   "source": [
    "median_edSex = df_edSex.median()\n",
    "print(median_edSex)\n",
    "\n",
    "medianpd_edSex = np.median(df_edSex, 0)\n",
    "medianpd_edSex"
   ]
  },
  {
   "cell_type": "code",
   "execution_count": 40,
   "id": "6d9cb0c6",
   "metadata": {},
   "outputs": [
    {
     "name": "stderr",
     "output_type": "stream",
     "text": [
      "C:\\Users\\Soportedrai\\AppData\\Local\\Temp\\ipykernel_6832\\2837424145.py:1: FutureWarning: Unlike other reduction functions (e.g. `skew`, `kurtosis`), the default behavior of `mode` typically preserves the axis it acts along. In SciPy 1.11.0, this behavior will change: the default value of `keepdims` will become False, the `axis` over which the statistic is taken will be eliminated, and the value None will no longer be accepted. Set `keepdims` to True or False to avoid this warning.\n",
      "  stats.mode(df_edSex)\n"
     ]
    },
    {
     "data": {
      "text/plain": [
       "ModeResult(mode=array([[ 1,  3, 15,  8,  0]], dtype=int64), count=array([[ 1, 24,  8,  5, 10]]))"
      ]
     },
     "execution_count": 40,
     "metadata": {},
     "output_type": "execute_result"
    }
   ],
   "source": [
    "stats.mode(df_edSex)"
   ]
  },
  {
   "cell_type": "code",
   "execution_count": 37,
   "id": "d8d5db55",
   "metadata": {},
   "outputs": [
    {
     "data": {
      "text/html": [
       "<div>\n",
       "<style scoped>\n",
       "    .dataframe tbody tr th:only-of-type {\n",
       "        vertical-align: middle;\n",
       "    }\n",
       "\n",
       "    .dataframe tbody tr th {\n",
       "        vertical-align: top;\n",
       "    }\n",
       "\n",
       "    .dataframe thead th {\n",
       "        text-align: right;\n",
       "    }\n",
       "</style>\n",
       "<table border=\"1\" class=\"dataframe\">\n",
       "  <thead>\n",
       "    <tr style=\"text-align: right;\">\n",
       "      <th></th>\n",
       "      <th># de estudiantes</th>\n",
       "      <th>Estrato</th>\n",
       "      <th>Edad</th>\n",
       "      <th># de metodos anticonceptivos conocidos</th>\n",
       "      <th># de relaciones que ha tenido</th>\n",
       "    </tr>\n",
       "  </thead>\n",
       "  <tbody>\n",
       "    <tr>\n",
       "      <th>count</th>\n",
       "      <td>30.000000</td>\n",
       "      <td>30.000000</td>\n",
       "      <td>30.000000</td>\n",
       "      <td>30.000000</td>\n",
       "      <td>30.000000</td>\n",
       "    </tr>\n",
       "    <tr>\n",
       "      <th>mean</th>\n",
       "      <td>15.500000</td>\n",
       "      <td>2.933333</td>\n",
       "      <td>16.133333</td>\n",
       "      <td>6.100000</td>\n",
       "      <td>2.966667</td>\n",
       "    </tr>\n",
       "    <tr>\n",
       "      <th>std</th>\n",
       "      <td>8.803408</td>\n",
       "      <td>0.449776</td>\n",
       "      <td>1.382984</td>\n",
       "      <td>2.656806</td>\n",
       "      <td>3.090400</td>\n",
       "    </tr>\n",
       "    <tr>\n",
       "      <th>min</th>\n",
       "      <td>1.000000</td>\n",
       "      <td>2.000000</td>\n",
       "      <td>14.000000</td>\n",
       "      <td>1.000000</td>\n",
       "      <td>0.000000</td>\n",
       "    </tr>\n",
       "    <tr>\n",
       "      <th>25%</th>\n",
       "      <td>8.250000</td>\n",
       "      <td>3.000000</td>\n",
       "      <td>15.000000</td>\n",
       "      <td>4.000000</td>\n",
       "      <td>0.000000</td>\n",
       "    </tr>\n",
       "    <tr>\n",
       "      <th>50%</th>\n",
       "      <td>15.500000</td>\n",
       "      <td>3.000000</td>\n",
       "      <td>16.000000</td>\n",
       "      <td>6.500000</td>\n",
       "      <td>2.000000</td>\n",
       "    </tr>\n",
       "    <tr>\n",
       "      <th>75%</th>\n",
       "      <td>22.750000</td>\n",
       "      <td>3.000000</td>\n",
       "      <td>17.000000</td>\n",
       "      <td>8.000000</td>\n",
       "      <td>6.000000</td>\n",
       "    </tr>\n",
       "    <tr>\n",
       "      <th>max</th>\n",
       "      <td>30.000000</td>\n",
       "      <td>4.000000</td>\n",
       "      <td>19.000000</td>\n",
       "      <td>11.000000</td>\n",
       "      <td>9.000000</td>\n",
       "    </tr>\n",
       "  </tbody>\n",
       "</table>\n",
       "</div>"
      ],
      "text/plain": [
       "       # de estudiantes    Estrato       Edad  \\\n",
       "count         30.000000  30.000000  30.000000   \n",
       "mean          15.500000   2.933333  16.133333   \n",
       "std            8.803408   0.449776   1.382984   \n",
       "min            1.000000   2.000000  14.000000   \n",
       "25%            8.250000   3.000000  15.000000   \n",
       "50%           15.500000   3.000000  16.000000   \n",
       "75%           22.750000   3.000000  17.000000   \n",
       "max           30.000000   4.000000  19.000000   \n",
       "\n",
       "       # de metodos anticonceptivos conocidos  # de relaciones que ha tenido  \n",
       "count                               30.000000                      30.000000  \n",
       "mean                                 6.100000                       2.966667  \n",
       "std                                  2.656806                       3.090400  \n",
       "min                                  1.000000                       0.000000  \n",
       "25%                                  4.000000                       0.000000  \n",
       "50%                                  6.500000                       2.000000  \n",
       "75%                                  8.000000                       6.000000  \n",
       "max                                 11.000000                       9.000000  "
      ]
     },
     "execution_count": 37,
     "metadata": {},
     "output_type": "execute_result"
    }
   ],
   "source": [
    "df_edSex.describe()"
   ]
  },
  {
   "cell_type": "code",
   "execution_count": 23,
   "id": "b1b689d5",
   "metadata": {},
   "outputs": [
    {
     "data": {
      "text/plain": [
       "15    8\n",
       "16    8\n",
       "17    6\n",
       "18    3\n",
       "14    3\n",
       "19    2\n",
       "Name: Edad, dtype: int64"
      ]
     },
     "execution_count": 23,
     "metadata": {},
     "output_type": "execute_result"
    }
   ],
   "source": [
    "frecuencia = df_edSex[\"Edad\"].value_counts()\n",
    "frecuencia"
   ]
  },
  {
   "cell_type": "markdown",
   "id": "e77aea46",
   "metadata": {},
   "source": [
    "# Gráficos y diagramas de representación"
   ]
  },
  {
   "cell_type": "code",
   "execution_count": 50,
   "id": "efb0c2e2",
   "metadata": {},
   "outputs": [],
   "source": [
    "from matplotlib import pyplot as plt\n",
    "import seaborn as sns"
   ]
  },
  {
   "cell_type": "code",
   "execution_count": 42,
   "id": "2bd6de5f",
   "metadata": {
    "scrolled": false
   },
   "outputs": [
    {
     "data": {
      "text/html": [
       "<div>\n",
       "<style scoped>\n",
       "    .dataframe tbody tr th:only-of-type {\n",
       "        vertical-align: middle;\n",
       "    }\n",
       "\n",
       "    .dataframe tbody tr th {\n",
       "        vertical-align: top;\n",
       "    }\n",
       "\n",
       "    .dataframe thead th {\n",
       "        text-align: right;\n",
       "    }\n",
       "</style>\n",
       "<table border=\"1\" class=\"dataframe\">\n",
       "  <thead>\n",
       "    <tr style=\"text-align: right;\">\n",
       "      <th></th>\n",
       "      <th>GENERO</th>\n",
       "      <th>EDAD</th>\n",
       "      <th>NIVEL DE COLESTEROL (mg / 100 ml)</th>\n",
       "    </tr>\n",
       "  </thead>\n",
       "  <tbody>\n",
       "    <tr>\n",
       "      <th>0</th>\n",
       "      <td>Masculino</td>\n",
       "      <td>55</td>\n",
       "      <td>88-119</td>\n",
       "    </tr>\n",
       "    <tr>\n",
       "      <th>1</th>\n",
       "      <td>Femenino</td>\n",
       "      <td>62</td>\n",
       "      <td>120-159</td>\n",
       "    </tr>\n",
       "    <tr>\n",
       "      <th>2</th>\n",
       "      <td>Femenino</td>\n",
       "      <td>55</td>\n",
       "      <td>160-199</td>\n",
       "    </tr>\n",
       "    <tr>\n",
       "      <th>3</th>\n",
       "      <td>Masculino</td>\n",
       "      <td>63</td>\n",
       "      <td>120-159</td>\n",
       "    </tr>\n",
       "    <tr>\n",
       "      <th>4</th>\n",
       "      <td>Masculino</td>\n",
       "      <td>62</td>\n",
       "      <td>120-159</td>\n",
       "    </tr>\n",
       "    <tr>\n",
       "      <th>5</th>\n",
       "      <td>Masculino</td>\n",
       "      <td>55</td>\n",
       "      <td>88-119</td>\n",
       "    </tr>\n",
       "    <tr>\n",
       "      <th>6</th>\n",
       "      <td>Femenino</td>\n",
       "      <td>63</td>\n",
       "      <td>160-199</td>\n",
       "    </tr>\n",
       "    <tr>\n",
       "      <th>7</th>\n",
       "      <td>Femenino</td>\n",
       "      <td>55</td>\n",
       "      <td>120-159</td>\n",
       "    </tr>\n",
       "    <tr>\n",
       "      <th>8</th>\n",
       "      <td>Masculino</td>\n",
       "      <td>55</td>\n",
       "      <td>88-119</td>\n",
       "    </tr>\n",
       "    <tr>\n",
       "      <th>9</th>\n",
       "      <td>Masculino</td>\n",
       "      <td>56</td>\n",
       "      <td>88-119</td>\n",
       "    </tr>\n",
       "    <tr>\n",
       "      <th>10</th>\n",
       "      <td>Femenino</td>\n",
       "      <td>57</td>\n",
       "      <td>120-159</td>\n",
       "    </tr>\n",
       "    <tr>\n",
       "      <th>11</th>\n",
       "      <td>Masculino</td>\n",
       "      <td>62</td>\n",
       "      <td>88-119</td>\n",
       "    </tr>\n",
       "    <tr>\n",
       "      <th>12</th>\n",
       "      <td>Masculino</td>\n",
       "      <td>63</td>\n",
       "      <td>120-159</td>\n",
       "    </tr>\n",
       "    <tr>\n",
       "      <th>13</th>\n",
       "      <td>Femenino</td>\n",
       "      <td>56</td>\n",
       "      <td>88-119</td>\n",
       "    </tr>\n",
       "    <tr>\n",
       "      <th>14</th>\n",
       "      <td>Femenino</td>\n",
       "      <td>55</td>\n",
       "      <td>88-119</td>\n",
       "    </tr>\n",
       "    <tr>\n",
       "      <th>15</th>\n",
       "      <td>Masculino</td>\n",
       "      <td>62</td>\n",
       "      <td>160-199</td>\n",
       "    </tr>\n",
       "  </tbody>\n",
       "</table>\n",
       "</div>"
      ],
      "text/plain": [
       "       GENERO  EDAD NIVEL DE COLESTEROL (mg / 100 ml)\n",
       "0   Masculino    55                            88-119\n",
       "1    Femenino    62                           120-159\n",
       "2    Femenino    55                           160-199\n",
       "3   Masculino    63                           120-159\n",
       "4   Masculino    62                           120-159\n",
       "5   Masculino    55                            88-119\n",
       "6    Femenino    63                           160-199\n",
       "7    Femenino    55                           120-159\n",
       "8   Masculino    55                            88-119\n",
       "9   Masculino    56                            88-119\n",
       "10   Femenino    57                           120-159\n",
       "11  Masculino    62                            88-119\n",
       "12  Masculino    63                           120-159\n",
       "13   Femenino    56                            88-119\n",
       "14   Femenino    55                            88-119\n",
       "15  Masculino    62                           160-199"
      ]
     },
     "execution_count": 42,
     "metadata": {},
     "output_type": "execute_result"
    }
   ],
   "source": [
    "dfcoles = pd.read_csv(r\"C:\\Users\\Soportedrai\\Desktop\\Estadistica\\colesterol.csv\", sep=\";\")\n",
    "dfcoles"
   ]
  },
  {
   "cell_type": "code",
   "execution_count": 46,
   "id": "7efea3b0",
   "metadata": {},
   "outputs": [
    {
     "data": {
      "image/png": "[encoded data removed]",
      "text/plain": [
       "<Figure size 640x480 with 1 Axes>"
      ]
     },
     "metadata": {},
     "output_type": "display_data"
    }
   ],
   "source": [
    "plot = dfcoles[\"GENERO\"].value_counts().plot(kind=\"pie\", title=\"Géneros\")"
   ]
  },
  {
   "cell_type": "code",
   "execution_count": 51,
   "id": "8bc8a6f2",
   "metadata": {},
   "outputs": [
    {
     "data": {
      "image/png": "[encoded data removed]",
      "text/plain": [
       "<Figure size 640x480 with 1 Axes>"
      ]
     },
     "metadata": {},
     "output_type": "display_data"
    }
   ],
   "source": [
    "names = dfcoles[\"GENERO\"].unique() # porqué????\n",
    "plt.pie(dfcoles[\"GENERO\"].value_counts(), labels=names)\n",
    "plt.title('Género')\n",
    "plt.show()"
   ]
  },
  {
   "cell_type": "code",
   "execution_count": 53,
   "id": "ec0183cb",
   "metadata": {},
   "outputs": [
    {
     "data": {
      "image/png": "[encoded data removed]",
      "text/plain": [
       "<Figure size 640x480 with 1 Axes>"
      ]
     },
     "metadata": {},
     "output_type": "display_data"
    }
   ],
   "source": [
    "names = dfcoles[\"GENERO\"].unique()\n",
    "plt.bar(names, dfcoles[\"GENERO\"].value_counts())\n",
    "plt.title('Género')\n",
    "plt.show()"
   ]
  },
  {
   "cell_type": "code",
   "execution_count": 54,
   "id": "34e495d2",
   "metadata": {},
   "outputs": [
    {
     "data": {
      "image/png": "[encoded data removed]",
      "text/plain": [
       "<Figure size 640x480 with 1 Axes>"
      ]
     },
     "metadata": {},
     "output_type": "display_data"
    }
   ],
   "source": [
    "names = dfcoles[\"EDAD\"].unique()\n",
    "plt.bar(names,dfcoles[\"EDAD\"].value_counts())\n",
    "plt.title('Edad')\n",
    "plt.show()"
   ]
  },
  {
   "cell_type": "code",
   "execution_count": 63,
   "id": "f28a5f25",
   "metadata": {},
   "outputs": [
    {
     "data": {
      "text/html": [
       "<div>\n",
       "<style scoped>\n",
       "    .dataframe tbody tr th:only-of-type {\n",
       "        vertical-align: middle;\n",
       "    }\n",
       "\n",
       "    .dataframe tbody tr th {\n",
       "        vertical-align: top;\n",
       "    }\n",
       "\n",
       "    .dataframe thead th {\n",
       "        text-align: right;\n",
       "    }\n",
       "</style>\n",
       "<table border=\"1\" class=\"dataframe\">\n",
       "  <thead>\n",
       "    <tr style=\"text-align: right;\">\n",
       "      <th>GENERO</th>\n",
       "      <th>Femenino</th>\n",
       "      <th>Masculino</th>\n",
       "    </tr>\n",
       "    <tr>\n",
       "      <th>EDAD</th>\n",
       "      <th></th>\n",
       "      <th></th>\n",
       "    </tr>\n",
       "  </thead>\n",
       "  <tbody>\n",
       "    <tr>\n",
       "      <th>55</th>\n",
       "      <td>3</td>\n",
       "      <td>3</td>\n",
       "    </tr>\n",
       "    <tr>\n",
       "      <th>56</th>\n",
       "      <td>1</td>\n",
       "      <td>1</td>\n",
       "    </tr>\n",
       "    <tr>\n",
       "      <th>57</th>\n",
       "      <td>1</td>\n",
       "      <td>0</td>\n",
       "    </tr>\n",
       "    <tr>\n",
       "      <th>62</th>\n",
       "      <td>1</td>\n",
       "      <td>3</td>\n",
       "    </tr>\n",
       "    <tr>\n",
       "      <th>63</th>\n",
       "      <td>1</td>\n",
       "      <td>2</td>\n",
       "    </tr>\n",
       "  </tbody>\n",
       "</table>\n",
       "</div>"
      ],
      "text/plain": [
       "GENERO  Femenino  Masculino\n",
       "EDAD                       \n",
       "55             3          3\n",
       "56             1          1\n",
       "57             1          0\n",
       "62             1          3\n",
       "63             1          2"
      ]
     },
     "execution_count": 63,
     "metadata": {},
     "output_type": "execute_result"
    },
    {
     "data": {
      "image/png": "[encoded data removed]",
      "text/plain": [
       "<Figure size 640x480 with 1 Axes>"
      ]
     },
     "metadata": {},
     "output_type": "display_data"
    }
   ],
   "source": [
    "plot = pd.crosstab(index=dfcoles[\"EDAD\"], columns=dfcoles[\"GENERO\"]).plot(kind=\"bar\", title=\"Género y edad\", ylabel=\"Cantidad\")\n",
    "\n",
    "pd.crosstab(index=dfcoles[\"EDAD\"], columns=dfcoles[\"GENERO\"])"
   ]
  },
  {
   "cell_type": "code",
   "execution_count": 66,
   "id": "a663d320",
   "metadata": {},
   "outputs": [
    {
     "data": {
      "image/png": "[encoded data removed]",
      "text/plain": [
       "<Figure size 640x480 with 1 Axes>"
      ]
     },
     "metadata": {},
     "output_type": "display_data"
    }
   ],
   "source": [
    "plot = pd.crosstab(index=dfcoles[\"EDAD\"], columns=dfcoles[\"GENERO\"]).plot(kind=\"bar\", stacked=True, title=\"Género y edad\", ylabel=\"Cantidad\")"
   ]
  },
  {
   "cell_type": "code",
   "execution_count": 68,
   "id": "a0b01ab6",
   "metadata": {},
   "outputs": [
    {
     "data": {
      "image/png": "[encoded data removed]",
      "text/plain": [
       "<Figure size 640x480 with 1 Axes>"
      ]
     },
     "metadata": {},
     "output_type": "display_data"
    }
   ],
   "source": [
    "plot = pd.crosstab(index=dfcoles[\"GENERO\"], columns=dfcoles[\"NIVEL DE COLESTEROL (mg / 100 ml)\"]).plot(kind=\"bar\", title=\"Género y colesterol\", ylabel=\"Cantidad\")"
   ]
  },
  {
   "cell_type": "code",
   "execution_count": null,
   "id": "b45ae7e0",
   "metadata": {},
   "outputs": [],
   "source": []
  }
 ],
 "metadata": {
  "kernelspec": {
   "display_name": "Python 3 (ipykernel)",
   "language": "python",
   "name": "python3"
  },
  "language_info": {
   "codemirror_mode": {
    "name": "ipython",
    "version": 3
   },
   "file_extension": ".py",
   "mimetype": "text/x-python",
   "name": "python",
   "nbconvert_exporter": "python",
   "pygments_lexer": "ipython3",
   "version": "3.10.9"
  }
 },
 "nbformat": 4,
 "nbformat_minor": 5
}
