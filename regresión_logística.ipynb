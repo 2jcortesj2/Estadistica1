{
 "cells": [
  {
   "cell_type": "code",
   "execution_count": 58,
   "metadata": {},
   "outputs": [],
   "source": [
    "import pandas as pd\n",
    "import seaborn as sns\n",
    "import numpy as np\n",
    "import matplotlib.pyplot as plt"
   ]
  },
  {
   "cell_type": "code",
   "execution_count": 59,
   "metadata": {},
   "outputs": [],
   "source": [
    "columns = ['age', 'creatinine_phosphokinase', 'ejection_fraction', 'platelets', 'serum_creatinine', 'serum_sodium', 'DEATH_EVENT']\n",
    "heart_df = pd.read_csv('heart_failure_clinical_records_dataset.csv', usecols=columns)"
   ]
  },
  {
   "cell_type": "code",
   "execution_count": 60,
   "metadata": {},
   "outputs": [],
   "source": [
    "def remove_outliers_iqr(data):\n",
    "    \n",
    "    # Calculate the first quartile (Q1) and third quartile (Q3)\n",
    "    Q1 = np.percentile(data, 25)\n",
    "    Q3 = np.percentile(data, 75)\n",
    "    \n",
    "    # Calculate the interquartile range (IQR)\n",
    "    IQR = Q3 - Q1\n",
    "    \n",
    "    # Define the lower and upper bounds for outliers\n",
    "    lower_bound = Q1 - 1.5 * IQR\n",
    "    upper_bound = Q3 + 1.5 * IQR\n",
    "    \n",
    "    # Remove outliers\n",
    "    data = np.where(data>upper_bound, upper_bound, np.where(data<lower_bound,lower_bound,data))\n",
    "    return data[(data >= lower_bound) & (data <= upper_bound)]"
   ]
  },
  {
   "cell_type": "code",
   "execution_count": 61,
   "metadata": {},
   "outputs": [],
   "source": [
    "for i in heart_df.columns:\n",
    "    heart_df[i] = remove_outliers_iqr(heart_df[i])"
   ]
  },
  {
   "cell_type": "markdown",
   "metadata": {},
   "source": [
    "**Variables**:\n",
    "\n",
    "**Explicada (Y)**: \n",
    "- Evento de muerte\n",
    "\n",
    "**Explicatorias (X)**: \n",
    "- Edad\n",
    "- Creatinina fosfoquinasa\n",
    "- Fracción de eyección\n",
    "- Plaquetas\n",
    "- Creatinina en suero\n",
    "- Sodio en suero"
   ]
  },
  {
   "cell_type": "markdown",
   "metadata": {},
   "source": [
    "**Importamos las librerias**"
   ]
  },
  {
   "cell_type": "code",
   "execution_count": 62,
   "metadata": {},
   "outputs": [],
   "source": [
    "from sklearn.model_selection import train_test_split\n",
    "from sklearn.linear_model import LogisticRegression\n",
    "from sklearn.metrics import accuracy_score, precision_score, recall_score, f1_score\n",
    "from sklearn.metrics import confusion_matrix"
   ]
  },
  {
   "cell_type": "markdown",
   "metadata": {},
   "source": [
    "**Datos de entrenamiento**"
   ]
  },
  {
   "cell_type": "code",
   "execution_count": 63,
   "metadata": {},
   "outputs": [],
   "source": [
    "x = heart_df.drop(columns=['DEATH_EVENT']) # Explicatoria\n",
    "y = heart_df['DEATH_EVENT'] # Explicada"
   ]
  },
  {
   "cell_type": "code",
   "execution_count": 64,
   "metadata": {},
   "outputs": [],
   "source": [
    "x_train, x_test, y_train, y_test = train_test_split(x, y, test_size=0.2, random_state=10)"
   ]
  },
  {
   "cell_type": "code",
   "execution_count": 65,
   "metadata": {},
   "outputs": [],
   "source": [
    "modelo = LogisticRegression(max_iter= 1000)\n",
    "modelo.fit(x_train, y_train)\n",
    "\n",
    "y_predi = modelo.predict(x_test)"
   ]
  },
  {
   "cell_type": "markdown",
   "metadata": {},
   "source": [
    "**Matriz de confusión**"
   ]
  },
  {
   "cell_type": "code",
   "execution_count": 66,
   "metadata": {},
   "outputs": [
    {
     "data": {
      "text/plain": [
       "Text(0.5, 23.52222222222222, 'Valores reales')"
      ]
     },
     "execution_count": 66,
     "metadata": {},
     "output_type": "execute_result"
    },
    {
     "data": {
      "image/png": "[encoded data removed]",
      "text/plain": [
       "<Figure size 640x480 with 2 Axes>"
      ]
     },
     "metadata": {},
     "output_type": "display_data"
    }
   ],
   "source": [
    "matriz_confusion = confusion_matrix(y_test, y_predi)\n",
    "\n",
    "# Heatmap\n",
    "sns.heatmap(matriz_confusion, annot= True, fmt= 'd', cmap= 'Blues',\n",
    "            xticklabels= ['Muerte', 'Supervivencia'],\n",
    "            yticklabels= ['Muerte', 'Supervivencia'])\n",
    "\n",
    "plt.ylabel('Valores predichos')\n",
    "plt.xlabel('Valores reales')"
   ]
  },
  {
   "cell_type": "markdown",
   "metadata": {},
   "source": [
    "**Cálculo de metricas de evaluación**"
   ]
  },
  {
   "cell_type": "markdown",
   "metadata": {},
   "source": [
    "<p align=\"center\">\n",
    "  <img src=\"https://www.tutorialexample.com/wp-content/uploads/2022/01/how-to-compute-accuracy-precision-recall-and-f1-score-in-machine-learning.png\" alt=\"Matriz de confusión\">\n",
    "</p>"
   ]
  },
  {
   "cell_type": "code",
   "execution_count": 67,
   "metadata": {},
   "outputs": [
    {
     "name": "stdout",
     "output_type": "stream",
     "text": [
      "Exactitud: 0.78\n",
      "Precisión: 0.62\n",
      "Recall: 0.59\n",
      "F1-score: 0.61\n"
     ]
    }
   ],
   "source": [
    "# Calcular la precisión del modelo\n",
    "precision = precision_score(y_test, y_predi)\n",
    "# Calcular la exactitud\n",
    "exactitud = accuracy_score(y_test, y_predi)\n",
    "# Calcular el recall\n",
    "recall = recall_score(y_test, y_predi)\n",
    "# Calcular el F1-score\n",
    "f1 = f1_score(y_test, y_predi)\n",
    "\n",
    "\n",
    "print(f'Exactitud: {exactitud:.2f}')\n",
    "print(f'Precisión: {precision:.2f}')\n",
    "print(f'Recall: {recall:.2f}')\n",
    "print(f'F1-score: {f1:.2f}')"
   ]
  }
 ],
 "metadata": {
  "kernelspec": {
   "display_name": "Python 3",
   "language": "python",
   "name": "python3"
  },
  "language_info": {
   "codemirror_mode": {
    "name": "ipython",
    "version": 3
   },
   "file_extension": ".py",
   "mimetype": "text/x-python",
   "name": "python",
   "nbconvert_exporter": "python",
   "pygments_lexer": "ipython3",
   "version": "3.12.0"
  }
 },
 "nbformat": 4,
 "nbformat_minor": 2
}
